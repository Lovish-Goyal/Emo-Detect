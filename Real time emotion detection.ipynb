{
 "cells": [
  {
   "cell_type": "markdown",
   "id": "d82c8901",
   "metadata": {},
   "source": [
    "## Real time Emotion detection "
   ]
  },
  {
   "cell_type": "markdown",
   "id": "653b7eb1",
   "metadata": {},
   "source": [
    "### step 1: Import Libraries"
   ]
  },
  {
   "cell_type": "code",
   "execution_count": 7,
   "id": "bf570440",
   "metadata": {
    "scrolled": true
   },
   "outputs": [],
   "source": [
    "import cv2\n",
    "from deepface import DeepFace  "
   ]
  },
  {
   "cell_type": "markdown",
   "id": "722ce512",
   "metadata": {},
   "source": [
    "### step 2 : Import dataset"
   ]
  },
  {
   "cell_type": "code",
   "execution_count": 8,
   "id": "18236fb9",
   "metadata": {},
   "outputs": [],
   "source": [
    "face_cascade_name = cv2.data.haarcascades + 'haarcascade_frontalface_alt.xml'  #getting a haarcascade xml file"
   ]
  },
  {
   "cell_type": "markdown",
   "id": "870f8320",
   "metadata": {},
   "source": [
    "### step 3 : Checking error In Uploading File "
   ]
  },
  {
   "cell_type": "code",
   "execution_count": 9,
   "id": "6514da18",
   "metadata": {},
   "outputs": [],
   "source": [
    "face_cascade = cv2.CascadeClassifier()  #processing it for our project\n",
    "if not face_cascade.load(cv2.samples.findFile(face_cascade_name)):  #adding a fallback event\n",
    "    print(\"Error loading xml file\")"
   ]
  },
  {
   "cell_type": "markdown",
   "id": "858004d7",
   "metadata": {},
   "source": [
    "### step 4 : Shows Emotions On face"
   ]
  },
  {
   "cell_type": "code",
   "execution_count": 10,
   "id": "2470ef3d",
   "metadata": {},
   "outputs": [],
   "source": [
    "video = cv2.VideoCapture(0)  #requisting the input from the webcam or camera\n",
    "while video.isOpened():  #checking if are getting video feed and using it\n",
    "    _,frame = video.read()\n",
    "    frame = cv2.flip(frame,1)\n",
    "    gray=cv2.cvtColor(frame,cv2.COLOR_BGR2GRAY)  #changing the video to grayscale to make the face analisis work properly\n",
    "    face=face_cascade.detectMultiScale(gray,scaleFactor=1.1,minNeighbors=5)\n",
    "    \n",
    "    for x,y,w,h in face:\n",
    "        img = cv2.rectangle(frame,(x,y),(x+w,y+h),(0,255,0),1) \n",
    "        try:\n",
    "            analyze = DeepFace.analyze(frame,actions=['emotion'])\n",
    "            cv2.putText(frame, analyze['dominant_emotion'], (int(x), int(y)), cv2.FONT_HERSHEY_SIMPLEX, 1, (0,255,0),1)\n",
    "    # print(analyze['dominant_emotion'])\n",
    "        except:\n",
    "            break\n",
    "            \n",
    "    \n",
    "    # this is the part where we display the output to the user\n",
    "    cv2.imshow('video', frame)\n",
    "    key=cv2.waitKey(1) \n",
    "    if key==ord('q'):   # here we are specifying the key which will stop the loop and stop all the processes going\n",
    "        break\n",
    "video.release()\n",
    "cv2.destroyAllWindows()"
   ]
  }
 ],
 "metadata": {
  "kernelspec": {
   "display_name": "Python 3 (ipykernel)",
   "language": "python",
   "name": "python3"
  },
  "language_info": {
   "codemirror_mode": {
    "name": "ipython",
    "version": 3
   },
   "file_extension": ".py",
   "mimetype": "text/x-python",
   "name": "python",
   "nbconvert_exporter": "python",
   "pygments_lexer": "ipython3",
   "version": "3.9.18"
  },
  "toc": {
   "base_numbering": 1,
   "nav_menu": {},
   "number_sections": true,
   "sideBar": true,
   "skip_h1_title": false,
   "title_cell": "Table of Contents",
   "title_sidebar": "Contents",
   "toc_cell": false,
   "toc_position": {},
   "toc_section_display": true,
   "toc_window_display": true
  },
  "vscode": {
   "interpreter": {
    "hash": "b671c20432fcd147198c92e7f072af9e705f087eb990bee22b07f08caab9f630"
   }
  }
 },
 "nbformat": 4,
 "nbformat_minor": 5
}
